{
 "cells": [
  {
   "cell_type": "code",
   "execution_count": 2,
   "metadata": {},
   "outputs": [
    {
     "name": "stdout",
     "output_type": "stream",
     "text": [
      "[('excelente', 1856), ('lugar', 1672), ('comida', 1638), ('muy', 1344), ('buen', 1310), ('servicio', 1075), ('buena', 945), ('atención', 872)]\n"
     ]
    }
   ],
   "source": [
    "import pandas as pd\n",
    "df = pd.read_csv('places_reviews.csv', usecols=['text'])\n",
    "\n",
    "from nltk.corpus import stopwords\n",
    "stop = stopwords.words('spanish')\n",
    "stop2 = pd.read_csv('stopwords.csv')\n",
    "\n",
    "df2=df['text'].apply(lambda x: ' '.join([word for word in x.split() if word not in (stop or stop2)]))\n",
    "\n",
    "from collections import Counter\n",
    "df3 = df2.replace('[0-9]+', '', regex=True)\n",
    "count=Counter(' '.join(df3).lower().split())\n",
    "most=count.most_common(8)\n",
    "\n",
    "print(most)"
   ]
  }
 ],
 "metadata": {
  "kernelspec": {
   "display_name": "Python 3",
   "language": "python",
   "name": "python3"
  },
  "language_info": {
   "codemirror_mode": {
    "name": "ipython",
    "version": 3
   },
   "file_extension": ".py",
   "mimetype": "text/x-python",
   "name": "python",
   "nbconvert_exporter": "python",
   "pygments_lexer": "ipython3",
   "version": "3.10.10"
  },
  "orig_nbformat": 4
 },
 "nbformat": 4,
 "nbformat_minor": 2
}
